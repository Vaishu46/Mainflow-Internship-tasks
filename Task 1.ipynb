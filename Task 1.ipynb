{
  "metadata": {
    "kernelspec": {
      "name": "python",
      "display_name": "Python (Pyodide)",
      "language": "python"
    },
    "language_info": {
      "codemirror_mode": {
        "name": "python",
        "version": 3
      },
      "file_extension": ".py",
      "mimetype": "text/x-python",
      "name": "python",
      "nbconvert_exporter": "python",
      "pygments_lexer": "ipython3",
      "version": "3.8"
    }
  },
  "nbformat_minor": 4,
  "nbformat": 4,
  "cells": [
    {
      "cell_type": "raw",
      "source": "MAIN FLOW SERVICES AND TECHNOLOGIES\n\nDATA ANALYTICS\n\nINTERSHIP BATCH 2 AUG - 5 OCT 2024\n\n     NAME : VAISHNAVI DEVI\n     EMAIL : vaishnavidevi2322@gmail.com",
      "metadata": {}
    },
    {
      "cell_type": "markdown",
      "source": "# This task involves understanding the basic data types in python such as lists, dictionaries, and sets",
      "metadata": {}
    },
    {
      "cell_type": "markdown",
      "source": "# 1.List Operations:",
      "metadata": {}
    },
    {
      "cell_type": "code",
      "source": "# Creating a list\nmy_list = [1,2,3,4,5,6]\nprint(\"initial list\", my_list)",
      "metadata": {
        "trusted": true
      },
      "outputs": [
        {
          "name": "stdout",
          "text": "initial list [1, 2, 3, 4, 5, 6]\n",
          "output_type": "stream"
        }
      ],
      "execution_count": 6
    },
    {
      "cell_type": "code",
      "source": "# Adding elements\nmy_list.append(7)\nprint(\"After appending 6\", my_list)\nprint(\"\")\n\nmy_list.insert(2,2.5)\nprint(\"After inserting 2.5 at index 2\", my_list)",
      "metadata": {
        "trusted": true
      },
      "outputs": [
        {
          "name": "stdout",
          "text": "After appending 6 [1, 2, 3, 4, 5, 6, 7]\n\nAfter inserting 2.5 at index 2 [1, 2, 2.5, 3, 4, 5, 6, 7]\n",
          "output_type": "stream"
        }
      ],
      "execution_count": 7
    },
    {
      "cell_type": "code",
      "source": "# Removing elements\nmy_list.remove(2.5)\nprint(\"After removing 2.5\", my_list)\nprint(\"\")\n\npopped_element = my_list.pop()\nprint(\"After popping an element\", my_list)\nprint(\"popped element\",popped_element)",
      "metadata": {
        "trusted": true
      },
      "outputs": [
        {
          "name": "stdout",
          "text": "After removing 2.5 [1, 2, 3, 4, 5, 6, 7]\n\nAfter popping an element [1, 2, 3, 4, 5, 6]\npopped element 7\n",
          "output_type": "stream"
        }
      ],
      "execution_count": 8
    },
    {
      "cell_type": "code",
      "source": "# Modifying elements\nmy_list[1] = 1.5\nprint(\"After modifying the element at index 1\", my_list)",
      "metadata": {
        "trusted": true
      },
      "outputs": [
        {
          "name": "stdout",
          "text": "After modifying the element at index 1 [1, 1.5, 3, 4, 5, 6]\n",
          "output_type": "stream"
        }
      ],
      "execution_count": 9
    },
    {
      "cell_type": "code",
      "source": "# displaying the element index value\nposition = my_list.index(4)\nprint(\"displaying the element(4) index value\", position)\nprint(\"\")\n\n#getting to know the datatype used\nprint(\"datatype used here is\", type(my_list))",
      "metadata": {
        "trusted": true
      },
      "outputs": [
        {
          "name": "stdout",
          "text": "displaying the element(4) index value 3\n\ndatatype used here is <class 'list'>\n",
          "output_type": "stream"
        }
      ],
      "execution_count": 10
    },
    {
      "cell_type": "markdown",
      "source": "# 2.Dictionary Operations",
      "metadata": {}
    },
    {
      "cell_type": "code",
      "source": "# Creating a dictionary (STUDENT RECORD)\nmy_dict = {501:\"Arjun\",\n           502:\"Franklin\",\n           503:\"Vijay\",\n           504:\"Disha\",\n           505:\"Shiva\"}\nprint(\"Student list\", my_dict)",
      "metadata": {
        "trusted": true
      },
      "outputs": [
        {
          "name": "stdout",
          "text": "Student list {501: 'Arjun', 502: 'Franklin', 503: 'Vijay', 504: 'Disha', 505: 'Shiva'}\n",
          "output_type": "stream"
        }
      ],
      "execution_count": 11
    },
    {
      "cell_type": "code",
      "source": "# Adding elements\nmy_dict[\"506\"] = \"Harini\"\nprint(\"After adding new student 'Harini'\", my_dict)\nprint(\"\")",
      "metadata": {
        "trusted": true
      },
      "outputs": [
        {
          "name": "stdout",
          "text": "After adding new student 'Harini' {501: 'Arjun', 502: 'Franklin', 503: 'Vijay', 504: 'Disha', 505: 'Shiva', '506': 'Harini'}\n\n",
          "output_type": "stream"
        }
      ],
      "execution_count": 12
    },
    {
      "cell_type": "code",
      "source": "# Removing elements\nmy_dict = {501: \"Arjuin\",\n           502: \"Franklin\",\n           503: \"Vijay\",\n           504: \"Disha\",\n           505: \"Shiva\",\n           506: \"Harini\"}\ndel my_dict[504]\nprint(\"After deleting student at roll.no 504{'Disha'}\", my_dict)\nprint(\"\")\n\nremoved_value = my_dict.pop(502)\nprint(\"After popping student 'Franklin'\", my_dict)\nprint(\"popped value\", removed_value)",
      "metadata": {
        "trusted": true
      },
      "outputs": [
        {
          "name": "stdout",
          "text": "After deleting student at roll.no 504{'Disha'} {501: 'Arjuin', 502: 'Franklin', 503: 'Vijay', 505: 'Shiva', 506: 'Harini'}\n\nAfter popping student 'Franklin' {501: 'Arjuin', 503: 'Vijay', 505: 'Shiva', 506: 'Harini'}\npopped value Franklin\n",
          "output_type": "stream"
        }
      ],
      "execution_count": 1
    },
    {
      "cell_type": "code",
      "source": "# Modifying elements\nmy_dict[504] = 'Ramesh'\nprint(\"After modifying the value\",my_dict)",
      "metadata": {
        "trusted": true
      },
      "outputs": [
        {
          "name": "stdout",
          "text": "After modifying the value {501: 'Arjuin', 503: 'Vijay', 505: 'Shiva', 506: 'Harini', 504: 'Ramesh'}\n",
          "output_type": "stream"
        }
      ],
      "execution_count": 2
    },
    {
      "cell_type": "code",
      "source": "# getting to know the datatype used\nprint(\"datatype used here is\", type(my_dict))",
      "metadata": {
        "trusted": true
      },
      "outputs": [
        {
          "name": "stdout",
          "text": "datatype used here is <class 'dict'>\n",
          "output_type": "stream"
        }
      ],
      "execution_count": 3
    },
    {
      "cell_type": "markdown",
      "source": "# 3. Set Operations",
      "metadata": {}
    },
    {
      "cell_type": "code",
      "source": "# Creating a set\nmy_set = {1,2,3,4,5}\nprint(\"inital setr\", my_set)",
      "metadata": {
        "trusted": true
      },
      "outputs": [
        {
          "name": "stdout",
          "text": "inital setr {1, 2, 3, 4, 5}\n",
          "output_type": "stream"
        }
      ],
      "execution_count": 5
    },
    {
      "cell_type": "code",
      "source": "# Adding elements\nmy_set.add(6)\nprint(\"After Adding 6\", my_set)",
      "metadata": {
        "trusted": true
      },
      "outputs": [
        {
          "name": "stdout",
          "text": "After Adding 6 {1, 2, 3, 4, 5, 6}\n",
          "output_type": "stream"
        }
      ],
      "execution_count": 6
    },
    {
      "cell_type": "code",
      "source": "# Removing elements\nmy_set.remove(3)\nprint(\"After removing 3\", my_set)\nprint(\"\")\n\npopped_element = my_set.pop()\nprint(\"After popping an element\", my_set)\nprint(\"popped element\", popped_element)",
      "metadata": {
        "trusted": true
      },
      "outputs": [
        {
          "name": "stdout",
          "text": "After removing 3 {1, 2, 4, 5, 6}\n\nAfter popping an element {2, 4, 5, 6}\npopped element 1\n",
          "output_type": "stream"
        }
      ],
      "execution_count": 7
    },
    {
      "cell_type": "code",
      "source": "# Set do not support indexing, so we can't modify elements directly\n#but we can remove and ten add a new element to simulate modification\nmy_set.remove(2)\nmy_set.add(20)\nprint(\"After modifying (removing 2 and adding 20)\",my_set)",
      "metadata": {
        "trusted": true
      },
      "outputs": [
        {
          "name": "stdout",
          "text": "After modifying (removing 2 and adding 20) {4, 5, 6, 20}\n",
          "output_type": "stream"
        }
      ],
      "execution_count": 8
    },
    {
      "cell_type": "code",
      "source": "",
      "metadata": {
        "trusted": true
      },
      "outputs": [],
      "execution_count": null
    }
  ]
}